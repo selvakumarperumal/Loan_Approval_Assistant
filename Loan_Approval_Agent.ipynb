{
 "cells": [
  {
   "cell_type": "code",
   "execution_count": 1,
   "id": "d2a1c4b0",
   "metadata": {},
   "outputs": [
    {
     "data": {
      "text/plain": [
       "True"
      ]
     },
     "execution_count": 1,
     "metadata": {},
     "output_type": "execute_result"
    }
   ],
   "source": [
    "from langchain_huggingface import HuggingFaceEndpoint\n",
    "from langchain_huggingface.chat_models import ChatHuggingFace\n",
    "from dotenv import load_dotenv\n",
    "from pydantic_settings import BaseSettings\n",
    "load_dotenv(\"./.env\", override=True)"
   ]
  },
  {
   "cell_type": "code",
   "execution_count": 2,
   "id": "239d1bf0",
   "metadata": {},
   "outputs": [],
   "source": [
    "class HuggingFaceConfig(BaseSettings):\n",
    "    hf_token: str\n",
    "    repo_id: str\n",
    "    provider: str\n",
    "    temperature: float \n",
    "\n",
    "config = HuggingFaceConfig()"
   ]
  },
  {
   "cell_type": "code",
   "execution_count": 3,
   "id": "2544cbd9",
   "metadata": {},
   "outputs": [],
   "source": [
    "class HuggingFaceChatModel(ChatHuggingFace):\n",
    "    def __init__(self, config: HuggingFaceConfig):\n",
    "        llm = HuggingFaceEndpoint(\n",
    "            repo_id=config.repo_id,\n",
    "            provider=config.provider,\n",
    "            huggingfacehub_api_token=config.hf_token,\n",
    "            temperature=config.temperature,\n",
    "        )\n",
    "        super().__init__(llm=llm)"
   ]
  },
  {
   "cell_type": "code",
   "execution_count": 4,
   "id": "2a480266",
   "metadata": {},
   "outputs": [],
   "source": [
    "from langgraph.graph import StateGraph, START, END\n",
    "from typing import Optional\n",
    "from pydantic import BaseModel"
   ]
  },
  {
   "cell_type": "markdown",
   "id": "1184cf5c",
   "metadata": {},
   "source": [
    "### State that flow across nodes"
   ]
  },
  {
   "cell_type": "code",
   "execution_count": 5,
   "id": "0d958cab",
   "metadata": {},
   "outputs": [],
   "source": [
    "class LoanState(BaseModel):\n",
    "    application: dict= {}\n",
    "    validation_error: Optional[list] = None\n",
    "    credit_profile: Optional[dict] = None\n",
    "    score: Optional[dict] = None\n",
    "    rule_flags: list = []\n",
    "    decision: Optional[str] = None\n",
    "    rationale: Optional[str] = None\n",
    "    require_human_approval: bool = False"
   ]
  },
  {
   "cell_type": "markdown",
   "id": "ef7bf140",
   "metadata": {},
   "source": [
    "### Helper Tool Calls"
   ]
  },
  {
   "cell_type": "code",
   "execution_count": 6,
   "id": "8fb97c92",
   "metadata": {},
   "outputs": [],
   "source": [
    "import random\n",
    "from langchain_core.prompts import ChatPromptTemplate, SystemMessagePromptTemplate, HumanMessagePromptTemplate"
   ]
  },
  {
   "cell_type": "code",
   "execution_count": 7,
   "id": "05d3ea54",
   "metadata": {},
   "outputs": [],
   "source": [
    "def validate_application(state: LoanState) -> LoanState:\n",
    "    # Dummy validation logic\n",
    "    errors = []\n",
    "    if 'income' not in state.application or state.application['income'] <= 0:\n",
    "        errors.append(\"Income must be a positive number.\")\n",
    "    if 'loan_amount' not in state.application or state.application['loan_amount'] <= 0:\n",
    "        errors.append(\"Loan amount must be a positive number.\")\n",
    "    state.validation_error = errors if errors else None\n",
    "    return state\n",
    "\n",
    "def fetch_credit_profile(state: LoanState) -> LoanState:\n",
    "    # Dummy credit profile fetching logic\n",
    "    state.credit_profile = {\n",
    "        \"credit_score\": random.randint(300, 850),\n",
    "        \"existing_debts\": random.randint(0, 50000)\n",
    "    }\n",
    "    return state\n",
    "\n",
    "def score_application(state: LoanState) -> LoanState:\n",
    "    # Dummy scoring logic\n",
    "    if state.credit_profile:\n",
    "        state.score = {\n",
    "            \"risk_score\": 750 - (state.application.get('loan_amount', 0) / 1000) - (state.credit_profile['existing_debts'] / 100)\n",
    "        }\n",
    "    return state\n",
    "\n",
    "def apply_business_rules(state: LoanState) -> LoanState:\n",
    "    # Dummy business rules application logic\n",
    "    if state.score and state.score['risk_score'] < 600:\n",
    "        state.rule_flags.append(\"Low risk score\")\n",
    "    if state.application.get('loan_amount', 0) > (state.application.get('income', 0) * 5):\n",
    "        state.rule_flags.append(\"Loan amount exceeds 5x income\")\n",
    "    return state\n",
    "\n",
    "def decide(state: LoanState) -> LoanState:\n",
    "    # Dummy decision logic\n",
    "    if state.validation_error:\n",
    "        state.decision = \"Rejected\"\n",
    "        state.rationale = \"Validation errors present.\"\n",
    "    elif state.rule_flags:\n",
    "        state.decision = \"Requires Human Approval\"\n",
    "        state.require_human_approval = True\n",
    "        state.rationale = \"Business rule flags present.\"\n",
    "    else:\n",
    "        state.decision = \"Approved\"\n",
    "        state.rationale = \"All checks passed.\"\n",
    "    return state"
   ]
  },
  {
   "cell_type": "markdown",
   "id": "16c16afa",
   "metadata": {},
   "source": [
    "## LLM MOdel"
   ]
  },
  {
   "cell_type": "code",
   "execution_count": 8,
   "id": "d7409597",
   "metadata": {},
   "outputs": [],
   "source": [
    "class LLM:\n",
    "    def __init__(self):\n",
    "        self.llm = HuggingFaceChatModel(config)\n",
    "\n",
    "    def generate_rationale(self, state: LoanState) -> LoanState:\n",
    "        system_prompt = SystemMessagePromptTemplate.from_template(\n",
    "            \"You are a loan approval assistant. Based on the provided application details, credit profile, score, and rule flags, generate a concise rationale for the loan decision.\"\n",
    "        )\n",
    "        human_prompt = HumanMessagePromptTemplate.from_template(\n",
    "            \"\"\"Application Details: {application}\n",
    "            Credit Profile: {credit_profile}\n",
    "            Score: {score}\n",
    "            Rule Flags: {rule_flags}\n",
    "            Decision: {decision}\n",
    "            Rationale:\"\"\"\n",
    "        )\n",
    "        prompt = ChatPromptTemplate.from_messages([system_prompt, human_prompt])\n",
    "        formatted_prompt = prompt.format_messages(\n",
    "            application=state.application,\n",
    "            credit_profile=state.credit_profile,\n",
    "            score=state.score,\n",
    "            rule_flags=state.rule_flags,\n",
    "            decision=state.decision\n",
    "        )\n",
    "        response = self.llm(formatted_prompt)\n",
    "        state.rationale = response.content\n",
    "        return state"
   ]
  },
  {
   "cell_type": "markdown",
   "id": "f7952aa4",
   "metadata": {},
   "source": [
    "## Build the graph(DAG)"
   ]
  },
  {
   "cell_type": "code",
   "execution_count": 9,
   "id": "5e4bb9d3",
   "metadata": {},
   "outputs": [
    {
     "name": "stdout",
     "output_type": "stream",
     "text": [
      "✅ Loan approval workflow graph compiled successfully!\n"
     ]
    }
   ],
   "source": [
    "graph = StateGraph(LoanState)\n",
    "\n",
    "# Add nodes (correct syntax)\n",
    "graph.add_node(\"validation_node\", validate_application)\n",
    "graph.add_node(\"credit_node\", fetch_credit_profile)\n",
    "graph.add_node(\"score_node\", score_application)\n",
    "graph.add_node(\"business_node\", apply_business_rules)\n",
    "graph.add_node(\"decision_node\", decide)\n",
    "graph.add_node(\"rationale_node\", LLM().generate_rationale)\n",
    "\n",
    "# Set entry point\n",
    "graph.add_edge(START, \"validation_node\")\n",
    "\n",
    "# Add conditional edges for proper flow control\n",
    "graph.add_edge(\n",
    "    \"validation_node\",\n",
    "    \"credit_node\"\n",
    ")\n",
    "\n",
    "graph.add_edge(\n",
    "    \"credit_node\",\n",
    "    \"score_node\"\n",
    ")\n",
    "\n",
    "graph.add_edge(\n",
    "    \"score_node\",\n",
    "    \"business_node\"\n",
    ")\n",
    "\n",
    "graph.add_edge(\n",
    "    \"business_node\",\n",
    "    \"decision_node\"\n",
    ")\n",
    "\n",
    "graph.add_edge(\n",
    "    \"decision_node\",\n",
    "    \"rationale_node\"\n",
    ")\n",
    "\n",
    "# Final edge to end\n",
    "graph.add_edge(\"rationale_node\", END)\n",
    "\n",
    "# Compile the graph\n",
    "app = graph.compile()\n",
    "print(\"✅ Loan approval workflow graph compiled successfully!\")"
   ]
  },
  {
   "cell_type": "code",
   "execution_count": 14,
   "id": "93de4b3c",
   "metadata": {},
   "outputs": [
    {
     "name": "stdout",
     "output_type": "stream",
     "text": [
      "🏦 Starting Loan Approval Process...\n",
      "📝 Application: {'applicant_name': 'John Doe', 'income': 60000, 'loan_amount': 200000, 'loan_purpose': 'Home Purchase'}\n",
      "--------------------------------------------------\n",
      "{'application': {'applicant_name': 'John Doe', 'income': 60000, 'loan_amount': 200000, 'loan_purpose': 'Home Purchase'}, 'validation_error': None, 'credit_profile': {'credit_score': 656, 'existing_debts': 28066}, 'score': {'risk_score': 269.34}, 'rule_flags': ['Low risk score'], 'decision': 'Requires Human Approval', 'rationale': 'Rationale: The loan application from John Doe requires human approval due to a low risk score of 269.34, which is flagged as a concern. Despite having a credit score of 656 and an income of $60,000, the low risk score indicates potential risks that need further evaluation. The loan purpose is for a home purchase, and the applicant has existing debts of $28,066, which may impact their ability to repay the requested loan amount of $200,000. A human review is necessary to assess these factors and determine the final decision.', 'require_human_approval': True}\n",
      "✅ Workflow completed!\n",
      "🎯 Decision: Requires Human Approval\n",
      "💭 Rationale: Rationale: The loan application from John Doe requires human approval due to a low risk score of 269.34, which is flagged as a concern. Despite having a credit score of 656 and an income of $60,000, the low risk score indicates potential risks that need further evaluation. The loan purpose is for a home purchase, and the applicant has existing debts of $28,066, which may impact their ability to repay the requested loan amount of $200,000. A human review is necessary to assess these factors and determine the final decision.\n",
      "📊 Credit Profile: {'credit_score': 656, 'existing_debts': 28066}\n",
      "⚠️  Rule Flags: ['Low risk score']\n",
      "👤 Human Approval Required: True\n",
      "{'application': {'applicant_name': 'John Doe', 'income': 60000, 'loan_amount': 200000, 'loan_purpose': 'Home Purchase'}, 'validation_error': None, 'credit_profile': {'credit_score': 656, 'existing_debts': 28066}, 'score': {'risk_score': 269.34}, 'rule_flags': ['Low risk score'], 'decision': 'Requires Human Approval', 'rationale': 'Rationale: The loan application from John Doe requires human approval due to a low risk score of 269.34, which is flagged as a concern. Despite having a credit score of 656 and an income of $60,000, the low risk score indicates potential risks that need further evaluation. The loan purpose is for a home purchase, and the applicant has existing debts of $28,066, which may impact their ability to repay the requested loan amount of $200,000. A human review is necessary to assess these factors and determine the final decision.', 'require_human_approval': True}\n",
      "✅ Workflow completed!\n",
      "🎯 Decision: Requires Human Approval\n",
      "💭 Rationale: Rationale: The loan application from John Doe requires human approval due to a low risk score of 269.34, which is flagged as a concern. Despite having a credit score of 656 and an income of $60,000, the low risk score indicates potential risks that need further evaluation. The loan purpose is for a home purchase, and the applicant has existing debts of $28,066, which may impact their ability to repay the requested loan amount of $200,000. A human review is necessary to assess these factors and determine the final decision.\n",
      "📊 Credit Profile: {'credit_score': 656, 'existing_debts': 28066}\n",
      "⚠️  Rule Flags: ['Low risk score']\n",
      "👤 Human Approval Required: True\n"
     ]
    }
   ],
   "source": [
    "# Testing\n",
    "initial_application = {\n",
    "    \"applicant_name\": \"John Doe\",\n",
    "    \"income\": 60000,\n",
    "    \"loan_amount\": 200000,\n",
    "    \"loan_purpose\": \"Home Purchase\"\n",
    "}\n",
    "\n",
    "# Create initial state with the application data\n",
    "initial_state = LoanState(application=initial_application)\n",
    "\n",
    "print(\"🏦 Starting Loan Approval Process...\")\n",
    "print(f\"📝 Application: {initial_application}\")\n",
    "print(\"-\" * 50)\n",
    "\n",
    "try:\n",
    "    # Run the workflow with the initial state\n",
    "    final_state = app.invoke(initial_state)\n",
    "\n",
    "    print(final_state)\n",
    "\n",
    "    print(\"✅ Workflow completed!\")\n",
    "    print(f\"🎯 Decision: {final_state['decision']}\")\n",
    "    print(f\"💭 Rationale: {final_state['rationale']}\")\n",
    "    print(f\"📊 Credit Profile: {final_state['credit_profile']}\")\n",
    "    print(f\"⚠️  Rule Flags: {final_state['rule_flags']}\")\n",
    "    print(f\"👤 Human Approval Required: {final_state['require_human_approval']}\")\n",
    "\n",
    "except Exception as e:\n",
    "    print(f\"❌ Error during workflow execution: {e}\")\n",
    "    import traceback\n",
    "    traceback.print_exc()"
   ]
  }
 ],
 "metadata": {
  "kernelspec": {
   "display_name": "backend_api (3.12.3)",
   "language": "python",
   "name": "python3"
  },
  "language_info": {
   "codemirror_mode": {
    "name": "ipython",
    "version": 3
   },
   "file_extension": ".py",
   "mimetype": "text/x-python",
   "name": "python",
   "nbconvert_exporter": "python",
   "pygments_lexer": "ipython3",
   "version": "3.12.3"
  }
 },
 "nbformat": 4,
 "nbformat_minor": 5
}
